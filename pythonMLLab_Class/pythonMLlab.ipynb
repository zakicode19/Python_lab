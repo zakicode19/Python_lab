{
 "cells": [
  {
   "cell_type": "code",
   "execution_count": 1,
   "metadata": {
    "id": "82RSfKUFeq2D"
   },
   "outputs": [],
   "source": [
    "import datetime\n",
    "import pandas as pd\n",
    "import mlpython as mp\n",
    "import PyPDF2\n",
    "from myconfig import NAME,DICTNAME,URL_IRIS"
   ]
  },
  {
   "cell_type": "markdown",
   "metadata": {
    "id": "IK72-iuyNcl0"
   },
   "source": [
    "# Day 1:"
   ]
  },
  {
   "cell_type": "markdown",
   "metadata": {
    "id": "SSCN7ueHNjE4"
   },
   "source": [
    "## Part 2: variables & data structures\n",
    "* variables\n",
    "* list\n",
    "* dictionary\n",
    "* print\n",
    "* strings\n",
    "* float/int\n",
    "* concatenation\n",
    "\n"
   ]
  },
  {
   "cell_type": "code",
   "execution_count": null,
   "metadata": {
    "id": "UzHsGi5hNf7V"
   },
   "outputs": [],
   "source": [
    "# variable\n",
    "myvariable = 1"
   ]
  },
  {
   "cell_type": "code",
   "execution_count": null,
   "metadata": {
    "id": "xmrWk8LSO39K"
   },
   "outputs": [],
   "source": [
    "#list\n",
    "mylists = [1,2,\"er\",2.3]"
   ]
  },
  {
   "cell_type": "code",
   "execution_count": null,
   "metadata": {
    "id": "liPCGYnVO6Zr"
   },
   "outputs": [],
   "source": [
    "# dictionary\n",
    "mydicts={\n",
    "    \"a\":\"alison\",\n",
    "    \"b\":2,\n",
    "    \"c\": 2.3}"
   ]
  },
  {
   "cell_type": "code",
   "execution_count": null,
   "metadata": {
    "colab": {
     "base_uri": "https://localhost:8080/"
    },
    "executionInfo": {
     "elapsed": 7,
     "status": "ok",
     "timestamp": 1650446819098,
     "user": {
      "displayName": "Moccozet Sascha",
      "userId": "15676104929778645753"
     },
     "user_tz": -120
    },
    "id": "HKHMbWISO6l8",
    "outputId": "c0a59b5d-0532-49f0-9bd2-11b879daf85d"
   },
   "outputs": [
    {
     "name": "stdout",
     "output_type": "stream",
     "text": [
      "1 [1, 2, 'er', 2.3] {'a': 'alison', 'b': 2, 'c': 2.3}\n"
     ]
    }
   ],
   "source": [
    "# Print\n",
    "print(myvariable,mylists,mydicts)"
   ]
  },
  {
   "cell_type": "code",
   "execution_count": null,
   "metadata": {
    "id": "sz99o8lnO63V"
   },
   "outputs": [],
   "source": [
    "# strings\n",
    "\"hello world\"\n",
    "mystrings=\"hello world\""
   ]
  },
  {
   "cell_type": "code",
   "execution_count": null,
   "metadata": {
    "id": "LzkzhROTO6-b"
   },
   "outputs": [],
   "source": [
    "# float/int\n",
    "1\n",
    "1.2\n",
    "myint=1\n",
    "myfloat=1.2"
   ]
  },
  {
   "cell_type": "code",
   "execution_count": null,
   "metadata": {
    "colab": {
     "base_uri": "https://localhost:8080/"
    },
    "executionInfo": {
     "elapsed": 4,
     "status": "ok",
     "timestamp": 1650446821416,
     "user": {
      "displayName": "Moccozet Sascha",
      "userId": "15676104929778645753"
     },
     "user_tz": -120
    },
    "id": "OZzJFb_mO7Dt",
    "outputId": "871498bc-afca-405b-b2ee-d8bdf25b2f65"
   },
   "outputs": [
    {
     "name": "stdout",
     "output_type": "stream",
     "text": [
      "hello world\n"
     ]
    }
   ],
   "source": [
    "# concatenation\n",
    "my1string=\"hello\"\n",
    "my2string=\"world\"\n",
    "my3string=my1string+\" \"+my2string\n",
    "print(my3string)"
   ]
  },
  {
   "cell_type": "markdown",
   "metadata": {
    "id": "EfZ6zPmRN5-4"
   },
   "source": [
    "# Part 3 : functions\n",
    "* write function with no arguments\n",
    "* write function with arguments"
   ]
  },
  {
   "cell_type": "code",
   "execution_count": null,
   "metadata": {
    "colab": {
     "base_uri": "https://localhost:8080/"
    },
    "executionInfo": {
     "elapsed": 5,
     "status": "ok",
     "timestamp": 1650446822595,
     "user": {
      "displayName": "Moccozet Sascha",
      "userId": "15676104929778645753"
     },
     "user_tz": -120
    },
    "id": "0BYJMQxEP6SG",
    "outputId": "880012a4-342a-493c-f59d-b8e0406583f0"
   },
   "outputs": [
    {
     "name": "stdout",
     "output_type": "stream",
     "text": [
      "hello world\n"
     ]
    }
   ],
   "source": [
    "# write function with no arguments\n",
    "def my_function():\n",
    "  \"\"\"\n",
    "    print \"hello world\"\n",
    "    return: None\n",
    "  \"\"\"\n",
    "  print(\"hello world\")\n",
    "my_function()"
   ]
  },
  {
   "cell_type": "code",
   "execution_count": null,
   "metadata": {
    "colab": {
     "base_uri": "https://localhost:8080/"
    },
    "executionInfo": {
     "elapsed": 222,
     "status": "ok",
     "timestamp": 1650453412716,
     "user": {
      "displayName": "Moccozet Sascha",
      "userId": "15676104929778645753"
     },
     "user_tz": -120
    },
    "id": "CfHupTSNQF5S",
    "outputId": "2d4f3cc2-29ed-4bfe-ab16-e62773cc70cc"
   },
   "outputs": [
    {
     "name": "stdout",
     "output_type": "stream",
     "text": [
      "test\n"
     ]
    }
   ],
   "source": [
    "# write function with arguments\n",
    "def my_function(myarg):\n",
    "  \"\"\"\n",
    "    print the given myarg\n",
    "    return: None\n",
    "  \"\"\"\n",
    "  print(myarg)\n",
    "my_function(myarg=\"test\")"
   ]
  },
  {
   "cell_type": "markdown",
   "metadata": {
    "id": "ieGC6GVcOFzY"
   },
   "source": [
    "# Part 4: loops\n",
    "* for + range\n",
    "* for el in [...]\n",
    "* comprehension list"
   ]
  },
  {
   "cell_type": "code",
   "execution_count": null,
   "metadata": {
    "colab": {
     "base_uri": "https://localhost:8080/"
    },
    "executionInfo": {
     "elapsed": 6,
     "status": "ok",
     "timestamp": 1650446825848,
     "user": {
      "displayName": "Moccozet Sascha",
      "userId": "15676104929778645753"
     },
     "user_tz": -120
    },
    "id": "n6VqYn56Rv5G",
    "outputId": "3cf673a3-8086-468d-e3a6-fa4e471bd46e"
   },
   "outputs": [
    {
     "name": "stdout",
     "output_type": "stream",
     "text": [
      "1\n",
      "2\n",
      "3\n",
      "4\n",
      "5\n",
      "6\n",
      "7\n",
      "8\n",
      "9\n"
     ]
    }
   ],
   "source": [
    "#for + range\n",
    "for count in range(1,10):\n",
    "  print(count)"
   ]
  },
  {
   "cell_type": "code",
   "execution_count": null,
   "metadata": {
    "colab": {
     "base_uri": "https://localhost:8080/"
    },
    "executionInfo": {
     "elapsed": 265,
     "status": "ok",
     "timestamp": 1650460330771,
     "user": {
      "displayName": "Moccozet Sascha",
      "userId": "15676104929778645753"
     },
     "user_tz": -120
    },
    "id": "G5NmUYf_Fkw5",
    "outputId": "811ea924-dbf1-4547-8ba0-70a1873622b2"
   },
   "outputs": [
    {
     "name": "stdout",
     "output_type": "stream",
     "text": [
      "3\n"
     ]
    }
   ],
   "source": [
    "text='hello my name is sam'\n",
    "len(text.split())\n",
    "size=[word for word in text.split() if len(word)>2]\n",
    "print(len(size))"
   ]
  },
  {
   "cell_type": "code",
   "execution_count": null,
   "metadata": {
    "colab": {
     "base_uri": "https://localhost:8080/"
    },
    "executionInfo": {
     "elapsed": 4,
     "status": "ok",
     "timestamp": 1650447089398,
     "user": {
      "displayName": "Moccozet Sascha",
      "userId": "15676104929778645753"
     },
     "user_tz": -120
    },
    "id": "L_4Qjt8gR_bd",
    "outputId": "34d88e50-3419-4f71-900f-88ccfdb87b17"
   },
   "outputs": [
    {
     "name": "stdout",
     "output_type": "stream",
     "text": [
      "1\n",
      "2\n",
      "4\n",
      "5\n",
      "1\n",
      "2\n",
      "er\n",
      "2.3\n",
      "a alison\n",
      "b 2\n",
      "c 2.3\n"
     ]
    }
   ],
   "source": [
    "#for el in [...]\n",
    "for el in [1,2,4,5]:\n",
    "  print(el)\n",
    "for el in mylists:\n",
    "  print(el)\n",
    "for index,element in mydicts.items():\n",
    "  print(index,element)"
   ]
  },
  {
   "cell_type": "code",
   "execution_count": null,
   "metadata": {
    "colab": {
     "base_uri": "https://localhost:8080/"
    },
    "executionInfo": {
     "elapsed": 258,
     "status": "ok",
     "timestamp": 1650449285204,
     "user": {
      "displayName": "Moccozet Sascha",
      "userId": "15676104929778645753"
     },
     "user_tz": -120
    },
    "id": "ilVW4ftAT2Zy",
    "outputId": "1a7c5528-3b32-4cba-a934-71be9e948304"
   },
   "outputs": [
    {
     "name": "stdout",
     "output_type": "stream",
     "text": [
      "[1, 2, 'er', 2.3]\n"
     ]
    }
   ],
   "source": [
    "# comprehension list\n",
    "newlist = [x for x in mylists]\n",
    "print(newlist)"
   ]
  },
  {
   "cell_type": "markdown",
   "metadata": {
    "id": "G0CCpgAhOR4X"
   },
   "source": [
    "# Part 5: conditions & exceptions\n",
    "* if, elif, else\n",
    "* try catch"
   ]
  },
  {
   "cell_type": "code",
   "execution_count": null,
   "metadata": {
    "colab": {
     "base_uri": "https://localhost:8080/"
    },
    "executionInfo": {
     "elapsed": 230,
     "status": "ok",
     "timestamp": 1650449325598,
     "user": {
      "displayName": "Moccozet Sascha",
      "userId": "15676104929778645753"
     },
     "user_tz": -120
    },
    "id": "69AmHSxbUHJ4",
    "outputId": "80af0848-e5df-40a3-f2f7-51398bb98b20"
   },
   "outputs": [
    {
     "name": "stdout",
     "output_type": "stream",
     "text": [
      "[0, 1, 2, 3, 4, 5, 6, 7, 8, 9, 'test']\n",
      "0 -true\n",
      "1 -false\n",
      "2 -true\n",
      "3 -false\n",
      "4 -true\n",
      "5 -false\n",
      "6 -true\n",
      "7 -false\n",
      "8 -true\n",
      "9 -false\n",
      "test -this is not a integer\n"
     ]
    }
   ],
   "source": [
    "# if elif else\n",
    "anotherlist=[x for x in range(0,10)]\n",
    "anotherlist += [\"test\"]\n",
    "print(anotherlist)\n",
    "for el in anotherlist:\n",
    "  try:\n",
    "    if el%2==0:\n",
    "      print(el,\"-true\")\n",
    "    elif el%2==1:\n",
    "      print(el,\"-false\")\n",
    "    else:\n",
    "      print(el,\"non of the above\")\n",
    "  except TypeError :\n",
    "    print(el,\"-this is not a integer\")"
   ]
  },
  {
   "cell_type": "markdown",
   "metadata": {
    "id": "KbaKQiceOao2"
   },
   "source": [
    "# Part 6 : Class\n",
    "* my first class\n",
    "* inheritance\n",
    "* ressorces part 1-6\n",
    " * link1\n",
    " * link2"
   ]
  },
  {
   "cell_type": "code",
   "execution_count": 57,
   "metadata": {},
   "outputs": [
    {
     "name": "stdout",
     "output_type": "stream",
     "text": [
      "The autoreload extension is already loaded. To reload it, use:\n",
      "  %reload_ext autoreload\n"
     ]
    }
   ],
   "source": [
    "# use to overwrite the import when we execute the import\n",
    "%load_ext autoreload\n",
    "%autoreload 2"
   ]
  },
  {
   "cell_type": "code",
   "execution_count": 22,
   "metadata": {},
   "outputs": [],
   "source": [
    "from myclass import Student\n",
    "from mlpython import student_is_ready"
   ]
  },
  {
   "cell_type": "code",
   "execution_count": 14,
   "metadata": {},
   "outputs": [],
   "source": [
    "myself = Student(name='Sascha', age = 27, section='DE')\n",
    "other_student = Student(name='Luigi', age = 27, section='DS')"
   ]
  },
  {
   "cell_type": "code",
   "execution_count": 9,
   "metadata": {},
   "outputs": [
    {
     "name": "stdout",
     "output_type": "stream",
     "text": [
      "Name: Sascha\n",
      "Age: 27\n",
      "Section: DE\n",
      "Strength: Coding\n"
     ]
    }
   ],
   "source": [
    "print(myself.get_str())"
   ]
  },
  {
   "cell_type": "code",
   "execution_count": 27,
   "metadata": {},
   "outputs": [
    {
     "name": "stdout",
     "output_type": "stream",
     "text": [
      "Name: Luigi\n",
      "Age: 27\n",
      "Section: DS\n",
      "Strength: Machine Learning\n"
     ]
    }
   ],
   "source": [
    "#print using the __str__() method\n",
    "print(other_student)"
   ]
  },
  {
   "cell_type": "code",
   "execution_count": 13,
   "metadata": {},
   "outputs": [
    {
     "data": {
      "text/plain": [
       "False"
      ]
     },
     "execution_count": 13,
     "metadata": {},
     "output_type": "execute_result"
    }
   ],
   "source": [
    "myself.is_ready('math')"
   ]
  },
  {
   "cell_type": "code",
   "execution_count": 15,
   "metadata": {},
   "outputs": [
    {
     "data": {
      "text/plain": [
       "True"
      ]
     },
     "execution_count": 15,
     "metadata": {},
     "output_type": "execute_result"
    }
   ],
   "source": [
    "other_student.is_ready('math')"
   ]
  },
  {
   "cell_type": "code",
   "execution_count": 21,
   "metadata": {},
   "outputs": [
    {
     "name": "stdout",
     "output_type": "stream",
     "text": [
      "is the student Luigi ready for python? False\n",
      "is the student Luigi ready for python? False\n",
      "is the student Luigi ready for python? True\n",
      "is the student Luigi ready for python? False\n",
      "is the student Luigi ready for python? True\n",
      "is the student Luigi ready for python? False\n",
      "is the student Luigi ready for python? False\n",
      "is the student Luigi ready for python? False\n",
      "is the student Luigi ready for python? True\n",
      "is the student Luigi ready for python? True\n"
     ]
    }
   ],
   "source": [
    "# in this example, is_ready() is a METHOD of the class Student\n",
    "# to acces the method we do Class.method()\n",
    "topic = 'python'\n",
    "for i in range(0,10):\n",
    "    print(f'is the student {other_student.name} ready for {topic}? {other_student.is_ready(topic)}')"
   ]
  },
  {
   "cell_type": "code",
   "execution_count": 23,
   "metadata": {},
   "outputs": [
    {
     "name": "stdout",
     "output_type": "stream",
     "text": [
      "is the student Luigi ready for python? True\n",
      "is the student Luigi ready for python? False\n",
      "is the student Luigi ready for python? False\n",
      "is the student Luigi ready for python? True\n",
      "is the student Luigi ready for python? True\n",
      "is the student Luigi ready for python? False\n",
      "is the student Luigi ready for python? True\n",
      "is the student Luigi ready for python? True\n",
      "is the student Luigi ready for python? True\n",
      "is the student Luigi ready for python? False\n"
     ]
    }
   ],
   "source": [
    "#in this example, other_student is an argument of the FUNCTION student_is_ready()\n",
    "topic = 'python'\n",
    "for i in range(0,10):\n",
    "    print(f'is the student {other_student.name} ready for {topic}? {student_is_ready(other_student, topic)}')"
   ]
  },
  {
   "cell_type": "code",
   "execution_count": 28,
   "metadata": {},
   "outputs": [
    {
     "data": {
      "text/plain": [
       "['__class__',\n",
       " '__delattr__',\n",
       " '__dict__',\n",
       " '__dir__',\n",
       " '__doc__',\n",
       " '__eq__',\n",
       " '__format__',\n",
       " '__ge__',\n",
       " '__getattribute__',\n",
       " '__gt__',\n",
       " '__hash__',\n",
       " '__init__',\n",
       " '__init_subclass__',\n",
       " '__le__',\n",
       " '__lt__',\n",
       " '__module__',\n",
       " '__ne__',\n",
       " '__new__',\n",
       " '__reduce__',\n",
       " '__reduce_ex__',\n",
       " '__repr__',\n",
       " '__setattr__',\n",
       " '__sizeof__',\n",
       " '__str__',\n",
       " '__subclasshook__',\n",
       " '__weakref__',\n",
       " 'age',\n",
       " 'get_age',\n",
       " 'get_str',\n",
       " 'is_ready',\n",
       " 'name',\n",
       " 'section',\n",
       " 'strength']"
      ]
     },
     "execution_count": 28,
     "metadata": {},
     "output_type": "execute_result"
    }
   ],
   "source": [
    "dir(myself)"
   ]
  },
  {
   "cell_type": "code",
   "execution_count": 45,
   "metadata": {},
   "outputs": [],
   "source": [
    "def get_attr_method(obj):\n",
    "    \"\"\"\n",
    "    a function that return a list of all custom attributs and method of a given object\n",
    "    \"\"\"\n",
    "    return [attribut for attribut in dir(obj) if not attribut.startswith(\"__\")]"
   ]
  },
  {
   "cell_type": "code",
   "execution_count": 55,
   "metadata": {},
   "outputs": [
    {
     "name": "stdout",
     "output_type": "stream",
     "text": [
      "['age', 'get_age', 'get_str', 'is_ready', 'name', 'section', 'strength']\n"
     ]
    }
   ],
   "source": [
    "print(get_attr_method(myself))"
   ]
  },
  {
   "cell_type": "code",
   "execution_count": 54,
   "metadata": {},
   "outputs": [],
   "source": [
    "def get_methods(obj):\n",
    "    \"\"\"\n",
    "    a function that return a list of all custom method for a given object\n",
    "    \"\"\"\n",
    "    return [method_name for method_name in dir(obj)\n",
    "                  if callable(getattr(obj, method_name)) and not method_name.startswith(\"__\")]"
   ]
  },
  {
   "cell_type": "code",
   "execution_count": 56,
   "metadata": {},
   "outputs": [
    {
     "name": "stdout",
     "output_type": "stream",
     "text": [
      "['get_age', 'get_str', 'is_ready']\n"
     ]
    }
   ],
   "source": [
    "print(get_methods(myself))"
   ]
  },
  {
   "cell_type": "code",
   "execution_count": null,
   "metadata": {},
   "outputs": [],
   "source": []
  }
 ],
 "metadata": {
  "colab": {
   "authorship_tag": "ABX9TyOPMXiYtmgTQKd+c+61yFiz",
   "collapsed_sections": [],
   "name": "pythonMLlab.ipynb",
   "provenance": []
  },
  "kernelspec": {
   "display_name": "Python 3 (ipykernel)",
   "language": "python",
   "name": "python3"
  },
  "language_info": {
   "codemirror_mode": {
    "name": "ipython",
    "version": 3
   },
   "file_extension": ".py",
   "mimetype": "text/x-python",
   "name": "python",
   "nbconvert_exporter": "python",
   "pygments_lexer": "ipython3",
   "version": "3.10.4"
  }
 },
 "nbformat": 4,
 "nbformat_minor": 1
}
